{
 "cells": [
  {
   "cell_type": "code",
   "execution_count": null,
   "metadata": {},
   "outputs": [],
   "source": [
    "# import the required libraries\n",
    "import coremltools as ct \n",
    "import tensorflow as tf\n",
    "\n",
    "# load the model from a SavedModel and then convert\n",
    "tf_keras_model = tf.keras.models.load_model('best_weights3.hdf5')\n",
    "mlmodel = ct.convert(tf_keras_model, convert_to=\"mlprogram\")\n",
    "\n",
    "# save the model to a .mlpackage file\n",
    "mlmodel.save(\"best_weights_v3.mlpackage\")"
   ]
  }
 ],
 "metadata": {
  "kernelspec": {
   "display_name": "Python 3.10.2 64-bit",
   "language": "python",
   "name": "python3"
  },
  "language_info": {
   "codemirror_mode": {
    "name": "ipython",
    "version": 3
   },
   "file_extension": ".py",
   "mimetype": "text/x-python",
   "name": "python",
   "nbconvert_exporter": "python",
   "pygments_lexer": "ipython3",
   "version": "3.10.2"
  },
  "orig_nbformat": 4,
  "vscode": {
   "interpreter": {
    "hash": "26de051ba29f2982a8de78e945f0abaf191376122a1563185a90213a26c5da77"
   }
  }
 },
 "nbformat": 4,
 "nbformat_minor": 2
}
