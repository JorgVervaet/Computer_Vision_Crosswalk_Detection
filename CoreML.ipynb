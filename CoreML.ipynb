{
 "cells": [
  {
   "cell_type": "code",
   "execution_count": 2,
   "metadata": {},
   "outputs": [
    {
     "name": "stderr",
     "output_type": "stream",
     "text": [
      "Running TensorFlow Graph Passes: 100%|██████████| 6/6 [00:20<00:00,  3.36s/ passes]\n",
      "Converting Frontend ==> MIL Ops: 100%|██████████| 72/72 [00:00<00:00, 351.02 ops/s]\n",
      "Running MIL Common passes: 100%|██████████| 34/34 [00:00<00:00, 125.20 passes/s]\n",
      "Running MIL FP16ComputePrecision pass: 100%|██████████| 1/1 [00:01<00:00,  1.49s/ passes]\n",
      "Running MIL Clean up passes: 100%|██████████| 9/9 [00:00<00:00,  9.06 passes/s]\n"
     ]
    }
   ],
   "source": [
    "import coremltools as ct \n",
    "import tensorflow as tf\n",
    "\n",
    "# load the model from a SavedModel and then convert\n",
    "tf_keras_model = tf.keras.models.load_model('best_weights3.hdf5')\n",
    "mlmodel = ct.convert(tf_keras_model, convert_to=\"mlprogram\")\n",
    "\n",
    "# save the model to a .mlpackage file\n",
    "mlmodel.save(\"best_weights_v3.mlpackage\")"
   ]
  }
 ],
 "metadata": {
  "kernelspec": {
   "display_name": "Python 3.9.12 ('cv_proj')",
   "language": "python",
   "name": "python3"
  },
  "language_info": {
   "codemirror_mode": {
    "name": "ipython",
    "version": 3
   },
   "file_extension": ".py",
   "mimetype": "text/x-python",
   "name": "python",
   "nbconvert_exporter": "python",
   "pygments_lexer": "ipython3",
   "version": "3.9.12"
  },
  "orig_nbformat": 4,
  "vscode": {
   "interpreter": {
    "hash": "342e99b07707208f7fd5033d1baf4a5b4e141bab115fcab6bad6b532a7b83142"
   }
  }
 },
 "nbformat": 4,
 "nbformat_minor": 2
}
