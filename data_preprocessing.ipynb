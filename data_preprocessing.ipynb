{
 "cells": [
  {
   "cell_type": "code",
   "execution_count": 1,
   "metadata": {},
   "outputs": [],
   "source": [
    "import pandas as pd\n",
    "import os\n",
    "import shutil"
   ]
  },
  {
   "cell_type": "code",
   "execution_count": 2,
   "metadata": {},
   "outputs": [
    {
     "data": {
      "text/html": [
       "<div>\n",
       "<style scoped>\n",
       "    .dataframe tbody tr th:only-of-type {\n",
       "        vertical-align: middle;\n",
       "    }\n",
       "\n",
       "    .dataframe tbody tr th {\n",
       "        vertical-align: top;\n",
       "    }\n",
       "\n",
       "    .dataframe thead th {\n",
       "        text-align: right;\n",
       "    }\n",
       "</style>\n",
       "<table border=\"1\" class=\"dataframe\">\n",
       "  <thead>\n",
       "    <tr style=\"text-align: right;\">\n",
       "      <th></th>\n",
       "      <th>label</th>\n",
       "      <th>imagePath</th>\n",
       "      <th>imageHeight</th>\n",
       "      <th>imageWidth</th>\n",
       "      <th>xmin</th>\n",
       "      <th>ymin</th>\n",
       "      <th>xmax</th>\n",
       "      <th>ymax</th>\n",
       "    </tr>\n",
       "  </thead>\n",
       "  <tbody>\n",
       "    <tr>\n",
       "      <th>0</th>\n",
       "      <td>R_Signal</td>\n",
       "      <td>MP_KSC_000003.jpg</td>\n",
       "      <td>360</td>\n",
       "      <td>640</td>\n",
       "      <td>573.651636</td>\n",
       "      <td>162.068966</td>\n",
       "      <td>585.877427</td>\n",
       "      <td>188.269502</td>\n",
       "    </tr>\n",
       "    <tr>\n",
       "      <th>1</th>\n",
       "      <td>Zebra_Cross</td>\n",
       "      <td>MP_KSC_000003.jpg</td>\n",
       "      <td>360</td>\n",
       "      <td>640</td>\n",
       "      <td>84.259259</td>\n",
       "      <td>246.574074</td>\n",
       "      <td>640.000000</td>\n",
       "      <td>360.000000</td>\n",
       "    </tr>\n",
       "    <tr>\n",
       "      <th>2</th>\n",
       "      <td>Zebra_Cross</td>\n",
       "      <td>MP_KSC_000016.jpg</td>\n",
       "      <td>360</td>\n",
       "      <td>640</td>\n",
       "      <td>406.965174</td>\n",
       "      <td>274.378109</td>\n",
       "      <td>504.477612</td>\n",
       "      <td>288.308458</td>\n",
       "    </tr>\n",
       "    <tr>\n",
       "      <th>3</th>\n",
       "      <td>R_Signal</td>\n",
       "      <td>MP_KSC_000057.jpg</td>\n",
       "      <td>360</td>\n",
       "      <td>640</td>\n",
       "      <td>473.360988</td>\n",
       "      <td>212.031750</td>\n",
       "      <td>485.625458</td>\n",
       "      <td>240.280565</td>\n",
       "    </tr>\n",
       "    <tr>\n",
       "      <th>4</th>\n",
       "      <td>Zebra_Cross</td>\n",
       "      <td>MP_KSC_000057.jpg</td>\n",
       "      <td>360</td>\n",
       "      <td>640</td>\n",
       "      <td>191.151824</td>\n",
       "      <td>299.584916</td>\n",
       "      <td>639.736958</td>\n",
       "      <td>360.000000</td>\n",
       "    </tr>\n",
       "  </tbody>\n",
       "</table>\n",
       "</div>"
      ],
      "text/plain": [
       "         label          imagePath  imageHeight  imageWidth        xmin  \\\n",
       "0     R_Signal  MP_KSC_000003.jpg          360         640  573.651636   \n",
       "1  Zebra_Cross  MP_KSC_000003.jpg          360         640   84.259259   \n",
       "2  Zebra_Cross  MP_KSC_000016.jpg          360         640  406.965174   \n",
       "3     R_Signal  MP_KSC_000057.jpg          360         640  473.360988   \n",
       "4  Zebra_Cross  MP_KSC_000057.jpg          360         640  191.151824   \n",
       "\n",
       "         ymin        xmax        ymax  \n",
       "0  162.068966  585.877427  188.269502  \n",
       "1  246.574074  640.000000  360.000000  \n",
       "2  274.378109  504.477612  288.308458  \n",
       "3  212.031750  485.625458  240.280565  \n",
       "4  299.584916  639.736958  360.000000  "
      ]
     },
     "execution_count": 2,
     "metadata": {},
     "output_type": "execute_result"
    }
   ],
   "source": [
    "df = pd.read_csv(\"/Users/Jorg/Data/crosswalk_data/all_annotations_v2.csv\")\n",
    "df.head()"
   ]
  },
  {
   "cell_type": "code",
   "execution_count": 3,
   "metadata": {},
   "outputs": [
    {
     "data": {
      "text/plain": [
       "array(['R_Signal', 'Zebra_Cross', 'G_Signal', '1'], dtype=object)"
      ]
     },
     "execution_count": 3,
     "metadata": {},
     "output_type": "execute_result"
    }
   ],
   "source": [
    "df.label.unique()"
   ]
  },
  {
   "cell_type": "code",
   "execution_count": 4,
   "metadata": {},
   "outputs": [
    {
     "data": {
      "text/plain": [
       "14829"
      ]
     },
     "execution_count": 4,
     "metadata": {},
     "output_type": "execute_result"
    }
   ],
   "source": [
    "df.imagePath.duplicated().sum()"
   ]
  },
  {
   "cell_type": "code",
   "execution_count": 5,
   "metadata": {},
   "outputs": [
    {
     "data": {
      "text/plain": [
       "array(['Zebra_Cross'], dtype=object)"
      ]
     },
     "execution_count": 5,
     "metadata": {},
     "output_type": "execute_result"
    }
   ],
   "source": [
    "df = df.loc[df['label']=='Zebra_Cross']\n",
    "\n",
    "df.label.unique()"
   ]
  },
  {
   "cell_type": "code",
   "execution_count": 6,
   "metadata": {},
   "outputs": [],
   "source": [
    "df=df[df['imagePath'].str.contains(\".png\")==False]"
   ]
  },
  {
   "cell_type": "code",
   "execution_count": 7,
   "metadata": {},
   "outputs": [
    {
     "data": {
      "text/plain": [
       "1        MP_KSC_000003.jpg\n",
       "2        MP_KSC_000016.jpg\n",
       "4        MP_KSC_000057.jpg\n",
       "6        MP_KSC_000058.jpg\n",
       "7        MP_KSC_000133.jpg\n",
       "               ...        \n",
       "49510    MP_TW_P004995.jpg\n",
       "49512    MP_TW_P004996.jpg\n",
       "49514    MP_TW_P004997.jpg\n",
       "49515    MP_TW_P005007.jpg\n",
       "49516    MP_TW_P005012.jpg\n",
       "Name: imagePath, Length: 35573, dtype: object"
      ]
     },
     "execution_count": 7,
     "metadata": {},
     "output_type": "execute_result"
    }
   ],
   "source": [
    "df['imagePath']"
   ]
  },
  {
   "cell_type": "code",
   "execution_count": 8,
   "metadata": {},
   "outputs": [
    {
     "data": {
      "text/plain": [
       "754"
      ]
     },
     "execution_count": 8,
     "metadata": {},
     "output_type": "execute_result"
    }
   ],
   "source": [
    "df.imagePath.duplicated().sum()"
   ]
  },
  {
   "cell_type": "code",
   "execution_count": 9,
   "metadata": {},
   "outputs": [],
   "source": [
    "\n",
    "df[['xmin', 'ymin', 'xmax', 'ymax']] = df[['xmin', 'ymin', 'xmax', 'ymax']].astype(int)"
   ]
  },
  {
   "cell_type": "code",
   "execution_count": 10,
   "metadata": {},
   "outputs": [
    {
     "data": {
      "text/html": [
       "<div>\n",
       "<style scoped>\n",
       "    .dataframe tbody tr th:only-of-type {\n",
       "        vertical-align: middle;\n",
       "    }\n",
       "\n",
       "    .dataframe tbody tr th {\n",
       "        vertical-align: top;\n",
       "    }\n",
       "\n",
       "    .dataframe thead th {\n",
       "        text-align: right;\n",
       "    }\n",
       "</style>\n",
       "<table border=\"1\" class=\"dataframe\">\n",
       "  <thead>\n",
       "    <tr style=\"text-align: right;\">\n",
       "      <th></th>\n",
       "      <th>imagePath</th>\n",
       "      <th>xmin</th>\n",
       "      <th>ymin</th>\n",
       "      <th>xmax</th>\n",
       "      <th>ymax</th>\n",
       "    </tr>\n",
       "  </thead>\n",
       "  <tbody>\n",
       "    <tr>\n",
       "      <th>1</th>\n",
       "      <td>MP_KSC_000003.jpg</td>\n",
       "      <td>84</td>\n",
       "      <td>246</td>\n",
       "      <td>640</td>\n",
       "      <td>360</td>\n",
       "    </tr>\n",
       "    <tr>\n",
       "      <th>2</th>\n",
       "      <td>MP_KSC_000016.jpg</td>\n",
       "      <td>406</td>\n",
       "      <td>274</td>\n",
       "      <td>504</td>\n",
       "      <td>288</td>\n",
       "    </tr>\n",
       "    <tr>\n",
       "      <th>4</th>\n",
       "      <td>MP_KSC_000057.jpg</td>\n",
       "      <td>191</td>\n",
       "      <td>299</td>\n",
       "      <td>639</td>\n",
       "      <td>360</td>\n",
       "    </tr>\n",
       "    <tr>\n",
       "      <th>6</th>\n",
       "      <td>MP_KSC_000058.jpg</td>\n",
       "      <td>75</td>\n",
       "      <td>260</td>\n",
       "      <td>640</td>\n",
       "      <td>360</td>\n",
       "    </tr>\n",
       "    <tr>\n",
       "      <th>7</th>\n",
       "      <td>MP_KSC_000133.jpg</td>\n",
       "      <td>354</td>\n",
       "      <td>186</td>\n",
       "      <td>525</td>\n",
       "      <td>211</td>\n",
       "    </tr>\n",
       "  </tbody>\n",
       "</table>\n",
       "</div>"
      ],
      "text/plain": [
       "           imagePath  xmin  ymin  xmax  ymax\n",
       "1  MP_KSC_000003.jpg    84   246   640   360\n",
       "2  MP_KSC_000016.jpg   406   274   504   288\n",
       "4  MP_KSC_000057.jpg   191   299   639   360\n",
       "6  MP_KSC_000058.jpg    75   260   640   360\n",
       "7  MP_KSC_000133.jpg   354   186   525   211"
      ]
     },
     "execution_count": 10,
     "metadata": {},
     "output_type": "execute_result"
    }
   ],
   "source": [
    "#drop column of label\n",
    "df = df.drop(columns = ['label','imageHeight','imageWidth'])\n",
    "df.head()"
   ]
  },
  {
   "cell_type": "code",
   "execution_count": 11,
   "metadata": {},
   "outputs": [
    {
     "data": {
      "text/plain": [
       "imagePath    34819\n",
       "xmin           618\n",
       "ymin           332\n",
       "xmax           615\n",
       "ymax           296\n",
       "dtype: int64"
      ]
     },
     "execution_count": 11,
     "metadata": {},
     "output_type": "execute_result"
    }
   ],
   "source": [
    "df.nunique() #the row of imagePath is more than the row of coordinate, mean there is some duplicated imagepath"
   ]
  },
  {
   "cell_type": "code",
   "execution_count": 12,
   "metadata": {},
   "outputs": [
    {
     "data": {
      "text/plain": [
       "754"
      ]
     },
     "execution_count": 12,
     "metadata": {},
     "output_type": "execute_result"
    }
   ],
   "source": [
    "df.imagePath.duplicated().sum()"
   ]
  },
  {
   "cell_type": "code",
   "execution_count": 13,
   "metadata": {},
   "outputs": [
    {
     "name": "stdout",
     "output_type": "stream",
     "text": [
      "                imagePath  xmin  ymin  xmax  ymax\n",
      "700     MP_KSC_007487.jpg   249   175   384   185\n",
      "702     MP_KSC_007490.jpg   279   150   480   177\n",
      "771     MP_KSC_007827.jpg    13   131   471   194\n",
      "775     MP_KSC_007844.jpg   319    97   584   142\n",
      "885     MP_KSC_008460.jpg   220   290   391   312\n",
      "...                   ...   ...   ...   ...   ...\n",
      "48939  MP_SEL_P006230.jpg   295   237   345   255\n",
      "49054   MP_TW_P000023.jpg   191   221   640   360\n",
      "49055   MP_TW_P000023.jpg   204   197   460   278\n",
      "49236   MP_TW_P001168.jpg   434   248   505   281\n",
      "49491   MP_TW_P004799.jpg   251   229   612   257\n",
      "\n",
      "[754 rows x 5 columns]\n"
     ]
    }
   ],
   "source": [
    "duplicate = df[df.duplicated(['imagePath'])]\n",
    "print(duplicate)"
   ]
  },
  {
   "cell_type": "code",
   "execution_count": 14,
   "metadata": {},
   "outputs": [],
   "source": [
    "df.to_csv('zebra_img.csv', index=False)  "
   ]
  },
  {
   "cell_type": "code",
   "execution_count": 15,
   "metadata": {},
   "outputs": [
    {
     "data": {
      "text/html": [
       "<div>\n",
       "<style scoped>\n",
       "    .dataframe tbody tr th:only-of-type {\n",
       "        vertical-align: middle;\n",
       "    }\n",
       "\n",
       "    .dataframe tbody tr th {\n",
       "        vertical-align: top;\n",
       "    }\n",
       "\n",
       "    .dataframe thead th {\n",
       "        text-align: right;\n",
       "    }\n",
       "</style>\n",
       "<table border=\"1\" class=\"dataframe\">\n",
       "  <thead>\n",
       "    <tr style=\"text-align: right;\">\n",
       "      <th></th>\n",
       "      <th>imagePath</th>\n",
       "      <th>xmin</th>\n",
       "      <th>ymin</th>\n",
       "      <th>xmax</th>\n",
       "      <th>ymax</th>\n",
       "    </tr>\n",
       "  </thead>\n",
       "  <tbody>\n",
       "    <tr>\n",
       "      <th>699</th>\n",
       "      <td>MP_KSC_007487.jpg</td>\n",
       "      <td>334</td>\n",
       "      <td>157</td>\n",
       "      <td>408</td>\n",
       "      <td>171</td>\n",
       "    </tr>\n",
       "    <tr>\n",
       "      <th>700</th>\n",
       "      <td>MP_KSC_007487.jpg</td>\n",
       "      <td>249</td>\n",
       "      <td>175</td>\n",
       "      <td>384</td>\n",
       "      <td>185</td>\n",
       "    </tr>\n",
       "    <tr>\n",
       "      <th>701</th>\n",
       "      <td>MP_KSC_007490.jpg</td>\n",
       "      <td>198</td>\n",
       "      <td>198</td>\n",
       "      <td>639</td>\n",
       "      <td>306</td>\n",
       "    </tr>\n",
       "    <tr>\n",
       "      <th>702</th>\n",
       "      <td>MP_KSC_007490.jpg</td>\n",
       "      <td>279</td>\n",
       "      <td>150</td>\n",
       "      <td>480</td>\n",
       "      <td>177</td>\n",
       "    </tr>\n",
       "    <tr>\n",
       "      <th>770</th>\n",
       "      <td>MP_KSC_007827.jpg</td>\n",
       "      <td>77</td>\n",
       "      <td>74</td>\n",
       "      <td>314</td>\n",
       "      <td>115</td>\n",
       "    </tr>\n",
       "    <tr>\n",
       "      <th>...</th>\n",
       "      <td>...</td>\n",
       "      <td>...</td>\n",
       "      <td>...</td>\n",
       "      <td>...</td>\n",
       "      <td>...</td>\n",
       "    </tr>\n",
       "    <tr>\n",
       "      <th>49055</th>\n",
       "      <td>MP_TW_P000023.jpg</td>\n",
       "      <td>204</td>\n",
       "      <td>197</td>\n",
       "      <td>460</td>\n",
       "      <td>278</td>\n",
       "    </tr>\n",
       "    <tr>\n",
       "      <th>49235</th>\n",
       "      <td>MP_TW_P001168.jpg</td>\n",
       "      <td>243</td>\n",
       "      <td>233</td>\n",
       "      <td>395</td>\n",
       "      <td>263</td>\n",
       "    </tr>\n",
       "    <tr>\n",
       "      <th>49236</th>\n",
       "      <td>MP_TW_P001168.jpg</td>\n",
       "      <td>434</td>\n",
       "      <td>248</td>\n",
       "      <td>505</td>\n",
       "      <td>281</td>\n",
       "    </tr>\n",
       "    <tr>\n",
       "      <th>49489</th>\n",
       "      <td>MP_TW_P004799.jpg</td>\n",
       "      <td>179</td>\n",
       "      <td>275</td>\n",
       "      <td>635</td>\n",
       "      <td>356</td>\n",
       "    </tr>\n",
       "    <tr>\n",
       "      <th>49491</th>\n",
       "      <td>MP_TW_P004799.jpg</td>\n",
       "      <td>251</td>\n",
       "      <td>229</td>\n",
       "      <td>612</td>\n",
       "      <td>257</td>\n",
       "    </tr>\n",
       "  </tbody>\n",
       "</table>\n",
       "<p>1436 rows × 5 columns</p>\n",
       "</div>"
      ],
      "text/plain": [
       "               imagePath  xmin  ymin  xmax  ymax\n",
       "699    MP_KSC_007487.jpg   334   157   408   171\n",
       "700    MP_KSC_007487.jpg   249   175   384   185\n",
       "701    MP_KSC_007490.jpg   198   198   639   306\n",
       "702    MP_KSC_007490.jpg   279   150   480   177\n",
       "770    MP_KSC_007827.jpg    77    74   314   115\n",
       "...                  ...   ...   ...   ...   ...\n",
       "49055  MP_TW_P000023.jpg   204   197   460   278\n",
       "49235  MP_TW_P001168.jpg   243   233   395   263\n",
       "49236  MP_TW_P001168.jpg   434   248   505   281\n",
       "49489  MP_TW_P004799.jpg   179   275   635   356\n",
       "49491  MP_TW_P004799.jpg   251   229   612   257\n",
       "\n",
       "[1436 rows x 5 columns]"
      ]
     },
     "execution_count": 15,
     "metadata": {},
     "output_type": "execute_result"
    }
   ],
   "source": [
    "imgpath = df[\"imagePath\"]\n",
    "df[imgpath.isin(imgpath[imgpath.duplicated()])]"
   ]
  },
  {
   "cell_type": "code",
   "execution_count": 16,
   "metadata": {},
   "outputs": [],
   "source": [
    "#save the duplicated to another csv\n",
    "df[imgpath.isin(imgpath[imgpath.duplicated()])].to_csv('dups.csv')"
   ]
  },
  {
   "cell_type": "code",
   "execution_count": 17,
   "metadata": {},
   "outputs": [],
   "source": [
    "dp_df = pd.read_csv('dups.csv')"
   ]
  },
  {
   "cell_type": "code",
   "execution_count": 18,
   "metadata": {},
   "outputs": [
    {
     "name": "stdout",
     "output_type": "stream",
     "text": [
      "<class 'pandas.core.frame.DataFrame'>\n",
      "RangeIndex: 1436 entries, 0 to 1435\n",
      "Data columns (total 6 columns):\n",
      " #   Column      Non-Null Count  Dtype \n",
      "---  ------      --------------  ----- \n",
      " 0   Unnamed: 0  1436 non-null   int64 \n",
      " 1   imagePath   1436 non-null   object\n",
      " 2   xmin        1436 non-null   int64 \n",
      " 3   ymin        1436 non-null   int64 \n",
      " 4   xmax        1436 non-null   int64 \n",
      " 5   ymax        1436 non-null   int64 \n",
      "dtypes: int64(5), object(1)\n",
      "memory usage: 67.4+ KB\n"
     ]
    }
   ],
   "source": [
    "dp_df.info()"
   ]
  }
 ],
 "metadata": {
  "kernelspec": {
   "display_name": "Python 3.9.12 ('cv_proj')",
   "language": "python",
   "name": "python3"
  },
  "language_info": {
   "codemirror_mode": {
    "name": "ipython",
    "version": 3
   },
   "file_extension": ".py",
   "mimetype": "text/x-python",
   "name": "python",
   "nbconvert_exporter": "python",
   "pygments_lexer": "ipython3",
   "version": "3.9.12"
  },
  "orig_nbformat": 4,
  "vscode": {
   "interpreter": {
    "hash": "342e99b07707208f7fd5033d1baf4a5b4e141bab115fcab6bad6b532a7b83142"
   }
  }
 },
 "nbformat": 4,
 "nbformat_minor": 2
}
