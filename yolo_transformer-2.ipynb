{
 "cells": [
  {
   "cell_type": "code",
   "execution_count": null,
   "metadata": {},
   "outputs": [],
   "source": [
    "import pandas as pd\n",
    "import os"
   ]
  },
  {
   "cell_type": "code",
   "execution_count": null,
   "metadata": {},
   "outputs": [],
   "source": [
    "#read csv file and make it compatible for yolo input\n",
    "df = pd.read_csv('./zebra_img.csv')\n",
    "df = df.drop_duplicates(subset='imagePath')\n",
    "df['imagePath'] = df['imagePath'].apply(lambda x: x.split('.')[0])\n",
    "df['x_center'] = (df['xmin'] + df['xmax'])/2\n",
    "df['y_center'] = (df['ymin'] + df['ymax'])/2\n",
    "df['w'] = df['xmax'] - df['xmin']\n",
    "df['h'] = df['ymax'] - df['ymin']\n",
    "df['classes'] = 0\n",
    "df['x_center'] = df['x_center']/640\n",
    "df['w'] = df['w']/640\n",
    "df['y_center'] = df['y_center']/360\n",
    "df['h'] = df['h']/360\n",
    "df.head()\n"
   ]
  },
  {
   "cell_type": "code",
   "execution_count": null,
   "metadata": {},
   "outputs": [],
   "source": [
    "df= df.drop(columns=['xmin', 'ymin','xmax','ymax'])\n",
    "df = df[['imagePath','classes','x_center','y_center','w','h']]\n",
    "df.head()"
   ]
  },
  {
   "cell_type": "code",
   "execution_count": null,
   "metadata": {},
   "outputs": [],
   "source": [
    "#transform csv file to label text per folder in train, val and test\n",
    "image_dir = './train_data/images/train'\n",
    "for file in os.listdir(image_dir):\n",
    "    image_name = file[:-4]\n",
    "    #print(image_name)\n",
    "    # Get image_name match the one in dataset\n",
    "    yolo_df = df.loc[df['imagePath'] == image_name]\n",
    "    yolo_data = yolo_df.loc[:, ['classes','x_center','y_center','w','h']].copy()\n",
    "    save_path = './train_data/labels/val/' + image_name + '.txt'\n",
    "    yolo_data.to_csv(save_path, header=False, index=False, sep=' ')"
   ]
  },
  {
   "cell_type": "code",
   "execution_count": null,
   "metadata": {},
   "outputs": [],
   "source": [
    "image_dir = './train_data/images/val'\n",
    "for file in os.listdir(image_dir):\n",
    "    image_name = file[:-4]\n",
    "    #print(image_name)\n",
    "    # Get image_name match the one in dataset\n",
    "    yolo_df = df.loc[df['imagePath'] == image_name]\n",
    "    yolo_data = yolo_df.loc[:, ['classes','x_center','y_center','w','h']].copy()\n",
    "    save_path = './train_data/labels/val/' + image_name + '.txt'\n",
    "    yolo_data.to_csv(save_path, header=False, index=False, sep=' ')"
   ]
  },
  {
   "cell_type": "code",
   "execution_count": null,
   "metadata": {},
   "outputs": [],
   "source": [
    "image_dir = './train_data/images/test'\n",
    "for file in os.listdir(image_dir):\n",
    "    image_name = file[:-4]\n",
    "    #print(image_name)\n",
    "    # Get image_name match the one in dataset\n",
    "    yolo_df = df.loc[df['imagePath'] == image_name]\n",
    "    yolo_data = yolo_df.loc[:, ['classes','x_center','y_center','w','h']].copy()\n",
    "    save_path = './train_data/labels/test/' + image_name + '.txt'\n",
    "    yolo_data.to_csv(save_path, header=False, index=False, sep=' ')"
   ]
  }
 ],
 "metadata": {
  "kernelspec": {
   "display_name": "Python 3.7.13 ('tf')",
   "language": "python",
   "name": "python3"
  },
  "language_info": {
   "codemirror_mode": {
    "name": "ipython",
    "version": 3
   },
   "file_extension": ".py",
   "mimetype": "text/x-python",
   "name": "python",
   "nbconvert_exporter": "python",
   "pygments_lexer": "ipython3",
   "version": "3.7.13"
  },
  "orig_nbformat": 4,
  "vscode": {
   "interpreter": {
    "hash": "778df9e9aab2d21e5de55c9e0a9e7e7e57b091782e7c5a5ad027c121dd370085"
   }
  }
 },
 "nbformat": 4,
 "nbformat_minor": 2
}
