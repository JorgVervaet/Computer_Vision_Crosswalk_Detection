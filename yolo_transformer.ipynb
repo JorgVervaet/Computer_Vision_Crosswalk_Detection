{
 "cells": [
  {
   "cell_type": "markdown",
   "metadata": {},
   "source": [
    "## Import Libraries"
   ]
  },
  {
   "cell_type": "code",
   "execution_count": 1,
   "metadata": {},
   "outputs": [],
   "source": [
    "import pandas as pd\n",
    "import os"
   ]
  },
  {
   "cell_type": "code",
   "execution_count": 2,
   "metadata": {},
   "outputs": [
    {
     "data": {
      "text/html": [
       "<div>\n",
       "<style scoped>\n",
       "    .dataframe tbody tr th:only-of-type {\n",
       "        vertical-align: middle;\n",
       "    }\n",
       "\n",
       "    .dataframe tbody tr th {\n",
       "        vertical-align: top;\n",
       "    }\n",
       "\n",
       "    .dataframe thead th {\n",
       "        text-align: right;\n",
       "    }\n",
       "</style>\n",
       "<table border=\"1\" class=\"dataframe\">\n",
       "  <thead>\n",
       "    <tr style=\"text-align: right;\">\n",
       "      <th></th>\n",
       "      <th>label</th>\n",
       "      <th>imagePath</th>\n",
       "      <th>imageHeight</th>\n",
       "      <th>imageWidth</th>\n",
       "      <th>xmin</th>\n",
       "      <th>ymin</th>\n",
       "      <th>xmax</th>\n",
       "      <th>ymax</th>\n",
       "      <th>x_center</th>\n",
       "      <th>y_center</th>\n",
       "      <th>w</th>\n",
       "      <th>h</th>\n",
       "      <th>classes</th>\n",
       "    </tr>\n",
       "  </thead>\n",
       "  <tbody>\n",
       "    <tr>\n",
       "      <th>0</th>\n",
       "      <td>crosswalk</td>\n",
       "      <td>MP_KSC_000003</td>\n",
       "      <td>360</td>\n",
       "      <td>640</td>\n",
       "      <td>84</td>\n",
       "      <td>246</td>\n",
       "      <td>640</td>\n",
       "      <td>360</td>\n",
       "      <td>0.565625</td>\n",
       "      <td>0.841667</td>\n",
       "      <td>0.868750</td>\n",
       "      <td>0.316667</td>\n",
       "      <td>0</td>\n",
       "    </tr>\n",
       "    <tr>\n",
       "      <th>1</th>\n",
       "      <td>crosswalk</td>\n",
       "      <td>MP_KSC_000016</td>\n",
       "      <td>360</td>\n",
       "      <td>640</td>\n",
       "      <td>406</td>\n",
       "      <td>274</td>\n",
       "      <td>504</td>\n",
       "      <td>288</td>\n",
       "      <td>0.710938</td>\n",
       "      <td>0.780556</td>\n",
       "      <td>0.153125</td>\n",
       "      <td>0.038889</td>\n",
       "      <td>0</td>\n",
       "    </tr>\n",
       "    <tr>\n",
       "      <th>2</th>\n",
       "      <td>crosswalk</td>\n",
       "      <td>MP_KSC_000057</td>\n",
       "      <td>360</td>\n",
       "      <td>640</td>\n",
       "      <td>191</td>\n",
       "      <td>299</td>\n",
       "      <td>639</td>\n",
       "      <td>360</td>\n",
       "      <td>0.648438</td>\n",
       "      <td>0.915278</td>\n",
       "      <td>0.700000</td>\n",
       "      <td>0.169444</td>\n",
       "      <td>0</td>\n",
       "    </tr>\n",
       "    <tr>\n",
       "      <th>3</th>\n",
       "      <td>crosswalk</td>\n",
       "      <td>MP_KSC_000058</td>\n",
       "      <td>360</td>\n",
       "      <td>640</td>\n",
       "      <td>75</td>\n",
       "      <td>260</td>\n",
       "      <td>640</td>\n",
       "      <td>360</td>\n",
       "      <td>0.558594</td>\n",
       "      <td>0.861111</td>\n",
       "      <td>0.882812</td>\n",
       "      <td>0.277778</td>\n",
       "      <td>0</td>\n",
       "    </tr>\n",
       "    <tr>\n",
       "      <th>4</th>\n",
       "      <td>crosswalk</td>\n",
       "      <td>MP_KSC_000133</td>\n",
       "      <td>360</td>\n",
       "      <td>640</td>\n",
       "      <td>354</td>\n",
       "      <td>186</td>\n",
       "      <td>525</td>\n",
       "      <td>211</td>\n",
       "      <td>0.686719</td>\n",
       "      <td>0.551389</td>\n",
       "      <td>0.267188</td>\n",
       "      <td>0.069444</td>\n",
       "      <td>0</td>\n",
       "    </tr>\n",
       "  </tbody>\n",
       "</table>\n",
       "</div>"
      ],
      "text/plain": [
       "       label      imagePath  imageHeight  imageWidth  xmin  ymin  xmax  ymax  \\\n",
       "0  crosswalk  MP_KSC_000003          360         640    84   246   640   360   \n",
       "1  crosswalk  MP_KSC_000016          360         640   406   274   504   288   \n",
       "2  crosswalk  MP_KSC_000057          360         640   191   299   639   360   \n",
       "3  crosswalk  MP_KSC_000058          360         640    75   260   640   360   \n",
       "4  crosswalk  MP_KSC_000133          360         640   354   186   525   211   \n",
       "\n",
       "   x_center  y_center         w         h  classes  \n",
       "0  0.565625  0.841667  0.868750  0.316667        0  \n",
       "1  0.710938  0.780556  0.153125  0.038889        0  \n",
       "2  0.648438  0.915278  0.700000  0.169444        0  \n",
       "3  0.558594  0.861111  0.882812  0.277778        0  \n",
       "4  0.686719  0.551389  0.267188  0.069444        0  "
      ]
     },
     "execution_count": 2,
     "metadata": {},
     "output_type": "execute_result"
    }
   ],
   "source": [
    "df = pd.read_csv('/Users/Jorg/Data/crosswalk_data/no_zebra_img11.csv')\n",
    "df = df.drop_duplicates(subset='imagePath')\n",
    "df['imagePath'] = df['imagePath'].apply(lambda x: x.split('.')[0])\n",
    "df['x_center'] = (df['xmin'] + df['xmax'])/2\n",
    "df['y_center'] = (df['ymin'] + df['ymax'])/2\n",
    "df['w'] = df['xmax'] - df['xmin']\n",
    "df['h'] = df['ymax'] - df['ymin']\n",
    "df['classes'] = 0\n",
    "df['x_center'] = df['x_center']/640\n",
    "df['w'] = df['w']/640\n",
    "df['y_center'] = df['y_center']/360\n",
    "df['h'] = df['h']/360\n",
    "df.head()\n"
   ]
  },
  {
   "cell_type": "code",
   "execution_count": 3,
   "metadata": {},
   "outputs": [
    {
     "data": {
      "text/html": [
       "<div>\n",
       "<style scoped>\n",
       "    .dataframe tbody tr th:only-of-type {\n",
       "        vertical-align: middle;\n",
       "    }\n",
       "\n",
       "    .dataframe tbody tr th {\n",
       "        vertical-align: top;\n",
       "    }\n",
       "\n",
       "    .dataframe thead th {\n",
       "        text-align: right;\n",
       "    }\n",
       "</style>\n",
       "<table border=\"1\" class=\"dataframe\">\n",
       "  <thead>\n",
       "    <tr style=\"text-align: right;\">\n",
       "      <th></th>\n",
       "      <th>imagePath</th>\n",
       "      <th>classes</th>\n",
       "      <th>x_center</th>\n",
       "      <th>y_center</th>\n",
       "      <th>w</th>\n",
       "      <th>h</th>\n",
       "    </tr>\n",
       "  </thead>\n",
       "  <tbody>\n",
       "    <tr>\n",
       "      <th>0</th>\n",
       "      <td>MP_KSC_000003</td>\n",
       "      <td>0</td>\n",
       "      <td>0.565625</td>\n",
       "      <td>0.841667</td>\n",
       "      <td>0.868750</td>\n",
       "      <td>0.316667</td>\n",
       "    </tr>\n",
       "    <tr>\n",
       "      <th>1</th>\n",
       "      <td>MP_KSC_000016</td>\n",
       "      <td>0</td>\n",
       "      <td>0.710938</td>\n",
       "      <td>0.780556</td>\n",
       "      <td>0.153125</td>\n",
       "      <td>0.038889</td>\n",
       "    </tr>\n",
       "    <tr>\n",
       "      <th>2</th>\n",
       "      <td>MP_KSC_000057</td>\n",
       "      <td>0</td>\n",
       "      <td>0.648438</td>\n",
       "      <td>0.915278</td>\n",
       "      <td>0.700000</td>\n",
       "      <td>0.169444</td>\n",
       "    </tr>\n",
       "    <tr>\n",
       "      <th>3</th>\n",
       "      <td>MP_KSC_000058</td>\n",
       "      <td>0</td>\n",
       "      <td>0.558594</td>\n",
       "      <td>0.861111</td>\n",
       "      <td>0.882812</td>\n",
       "      <td>0.277778</td>\n",
       "    </tr>\n",
       "    <tr>\n",
       "      <th>4</th>\n",
       "      <td>MP_KSC_000133</td>\n",
       "      <td>0</td>\n",
       "      <td>0.686719</td>\n",
       "      <td>0.551389</td>\n",
       "      <td>0.267188</td>\n",
       "      <td>0.069444</td>\n",
       "    </tr>\n",
       "  </tbody>\n",
       "</table>\n",
       "</div>"
      ],
      "text/plain": [
       "       imagePath  classes  x_center  y_center         w         h\n",
       "0  MP_KSC_000003        0  0.565625  0.841667  0.868750  0.316667\n",
       "1  MP_KSC_000016        0  0.710938  0.780556  0.153125  0.038889\n",
       "2  MP_KSC_000057        0  0.648438  0.915278  0.700000  0.169444\n",
       "3  MP_KSC_000058        0  0.558594  0.861111  0.882812  0.277778\n",
       "4  MP_KSC_000133        0  0.686719  0.551389  0.267188  0.069444"
      ]
     },
     "execution_count": 3,
     "metadata": {},
     "output_type": "execute_result"
    }
   ],
   "source": [
    "df= df.drop(columns=['xmin', 'ymin','xmax','ymax'])\n",
    "df = df[['imagePath','classes','x_center','y_center','w','h']]\n",
    "df.head()"
   ]
  },
  {
   "cell_type": "code",
   "execution_count": 4,
   "metadata": {},
   "outputs": [
    {
     "data": {
      "text/plain": [
       "0        MP_KSC_000003\n",
       "1        MP_KSC_000016\n",
       "2        MP_KSC_000057\n",
       "3        MP_KSC_000058\n",
       "4        MP_KSC_000133\n",
       "             ...      \n",
       "43416     ZYNDCO9BBXHG\n",
       "43417     ZYNTKHR4T0WF\n",
       "43418     ZYZHTWU8FTHN\n",
       "43419     ZZ8C1JOGSIXC\n",
       "43420     ZZWIQV5U4I2S\n",
       "Name: imagePath, Length: 42667, dtype: object"
      ]
     },
     "execution_count": 4,
     "metadata": {},
     "output_type": "execute_result"
    }
   ],
   "source": [
    "df['imagePath']"
   ]
  },
  {
   "cell_type": "code",
   "execution_count": 6,
   "metadata": {},
   "outputs": [
    {
     "data": {
      "text/html": [
       "<div>\n",
       "<style scoped>\n",
       "    .dataframe tbody tr th:only-of-type {\n",
       "        vertical-align: middle;\n",
       "    }\n",
       "\n",
       "    .dataframe tbody tr th {\n",
       "        vertical-align: top;\n",
       "    }\n",
       "\n",
       "    .dataframe thead th {\n",
       "        text-align: right;\n",
       "    }\n",
       "</style>\n",
       "<table border=\"1\" class=\"dataframe\">\n",
       "  <thead>\n",
       "    <tr style=\"text-align: right;\">\n",
       "      <th></th>\n",
       "      <th>imagePath</th>\n",
       "      <th>classes</th>\n",
       "      <th>x_center</th>\n",
       "      <th>y_center</th>\n",
       "      <th>w</th>\n",
       "      <th>h</th>\n",
       "    </tr>\n",
       "  </thead>\n",
       "  <tbody>\n",
       "    <tr>\n",
       "      <th>35572</th>\n",
       "      <td>MP_TW_P005012</td>\n",
       "      <td>0</td>\n",
       "      <td>0.544531</td>\n",
       "      <td>0.848611</td>\n",
       "      <td>0.560937</td>\n",
       "      <td>0.297222</td>\n",
       "    </tr>\n",
       "  </tbody>\n",
       "</table>\n",
       "</div>"
      ],
      "text/plain": [
       "           imagePath  classes  x_center  y_center         w         h\n",
       "35572  MP_TW_P005012        0  0.544531  0.848611  0.560937  0.297222"
      ]
     },
     "execution_count": 6,
     "metadata": {},
     "output_type": "execute_result"
    }
   ],
   "source": [
    "df.loc[df['imagePath'] == 'MP_TW_P005012']"
   ]
  },
  {
   "cell_type": "code",
   "execution_count": 10,
   "metadata": {},
   "outputs": [],
   "source": [
    "image_dir = '/Users/Jorg/Data/crosswalk_data/train_data/images/train/'\n",
    "for file in os.listdir(image_dir):\n",
    "    image_name = file[:-4]\n",
    "    #print(image_name)\n",
    "    # Get image_name match the one in dataset\n",
    "    yolo_df = df.loc[df['imagePath'] == image_name]\n",
    "    yolo_data = yolo_df.loc[:, ['classes','x_center','y_center','w','h']].copy()\n",
    "    save_path = '/Users/Jorg/Data/crosswalk_data/train_data/labels/train/' + image_name + '.txt'\n",
    "    yolo_data.to_csv(save_path, header=False, index=False, sep=' ')"
   ]
  },
  {
   "cell_type": "code",
   "execution_count": 11,
   "metadata": {},
   "outputs": [],
   "source": [
    "image_dir = '/Users/Jorg/Data/crosswalk_data/train_data/images/val/'\n",
    "for file in os.listdir(image_dir):\n",
    "    image_name = file[:-4]\n",
    "    #print(image_name)\n",
    "    # Get image_name match the one in dataset\n",
    "    yolo_df = df.loc[df['imagePath'] == image_name]\n",
    "    yolo_data = yolo_df.loc[:, ['classes','x_center','y_center','w','h']].copy()\n",
    "    save_path = '/Users/Jorg/Data/crosswalk_data/train_data/labels/val/' + image_name + '.txt'\n",
    "    yolo_data.to_csv(save_path, header=False, index=False, sep=' ')"
   ]
  },
  {
   "cell_type": "code",
   "execution_count": 9,
   "metadata": {},
   "outputs": [],
   "source": [
    "image_dir = '/Users/Jorg/Data/crosswalk_data/train_data/images/test/'\n",
    "for file in os.listdir(image_dir):\n",
    "    image_name = file[:-4]\n",
    "    #print(image_name)\n",
    "    # Get image_name match the one in dataset\n",
    "    yolo_df = df.loc[df['imagePath'] == image_name]\n",
    "    yolo_data = yolo_df.loc[:, ['classes','x_center','y_center','w','h']].copy()\n",
    "    save_path = '/Users/Jorg/Data/crosswalk_data/train_data/labels/test/' + image_name + '.txt'\n",
    "    yolo_data.to_csv(save_path, header=False, index=False, sep=' ')"
   ]
  },
  {
   "cell_type": "code",
   "execution_count": null,
   "metadata": {},
   "outputs": [],
   "source": [
    "df.iloc[7999,:]"
   ]
  }
 ],
 "metadata": {
  "kernelspec": {
   "display_name": "Python 3.9.12 ('cv_proj')",
   "language": "python",
   "name": "python3"
  },
  "language_info": {
   "codemirror_mode": {
    "name": "ipython",
    "version": 3
   },
   "file_extension": ".py",
   "mimetype": "text/x-python",
   "name": "python",
   "nbconvert_exporter": "python",
   "pygments_lexer": "ipython3",
   "version": "3.9.12"
  },
  "orig_nbformat": 4,
  "vscode": {
   "interpreter": {
    "hash": "342e99b07707208f7fd5033d1baf4a5b4e141bab115fcab6bad6b532a7b83142"
   }
  }
 },
 "nbformat": 4,
 "nbformat_minor": 2
}
