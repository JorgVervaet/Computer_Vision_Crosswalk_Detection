{
 "cells": [
  {
   "cell_type": "code",
   "execution_count": null,
   "metadata": {},
   "outputs": [],
   "source": [
    "import pandas as pd\n",
    "import os\n",
    "\n",
    "image_dir = './images/train/'\n",
    "for file in os.listdir(image_dir):\n",
    "    image_name = file[:-4]\n",
    "    #print(image_name)\n",
    "    # Get image_name match the one in dataset\n",
    "    yolo_df = df.loc[df['imagePath'] == image_name]\n",
    "    yolo_data = yolo_df.loc[:, ['classes','x_center','y_center','w','h']].copy()\n",
    "    save_path = '/Users/Jorg/Data/crosswalk_data/train_data/labels/train/' + image_name + '.txt'\n",
    "    yolo_data.to_csv(save_path, header=False, index=False, sep=' ')\n"
   ]
  }
 ],
 "metadata": {
  "kernelspec": {
   "display_name": "Python 3.9.12 ('cv_proj')",
   "language": "python",
   "name": "python3"
  },
  "language_info": {
   "name": "python",
   "version": "3.9.12"
  },
  "orig_nbformat": 4,
  "vscode": {
   "interpreter": {
    "hash": "342e99b07707208f7fd5033d1baf4a5b4e141bab115fcab6bad6b532a7b83142"
   }
  }
 },
 "nbformat": 4,
 "nbformat_minor": 2
}
